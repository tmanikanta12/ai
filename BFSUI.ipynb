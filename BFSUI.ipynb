{
 "cells": [
  {
   "cell_type": "code",
   "execution_count": 1,
   "id": "229327c8-11b7-4c56-94d1-705045aa2bb8",
   "metadata": {},
   "outputs": [],
   "source": [
    "from collections import defaultdict, deque\n",
    "\n"
   ]
  },
  {
   "cell_type": "code",
   "execution_count": 3,
   "id": "b30a6e24-e758-49ef-99d9-29164750772a",
   "metadata": {},
   "outputs": [],
   "source": [
    "class Graph:\n",
    "    def __init__(self):\n",
    "        self.graph = defaultdict(list)\n",
    "\n",
    "    def addEdge(self, u, v, c):\n",
    "        self.graph[u].append((v, c))\n",
    "        self.graph[v].append((u, c))\n",
    "\n",
    "    def dispg(self):\n",
    "        print(self.graph.items())\n",
    "\n",
    "    def BFS(self, s, goal):\n",
    "        visited = [False] * (len(self.graph))\n",
    "        queue = deque()\n",
    "        queue.append(s)\n",
    "        visited[s] = True\n",
    "        \n",
    "        while queue:\n",
    "            s = queue.popleft()\n",
    "            print(s, end=\" \")\n",
    "            \n",
    "            if s == goal:\n",
    "                print(\"Goal Found!\")\n",
    "                return 1\n",
    "            \n",
    "            for i, j in self.graph[s]:\n",
    "                if not visited[i]:\n",
    "                    queue.append(i)\n",
    "                    visited[i] = True\n"
   ]
  },
  {
   "cell_type": "code",
   "execution_count": 5,
   "id": "2c7e54eb-b8bb-4a48-a5b9-5331d8039a63",
   "metadata": {},
   "outputs": [
    {
     "name": "stdout",
     "output_type": "stream",
     "text": [
      "dict_items([(0, [(1, 9), (2, 5), (3, 1), (4, 4)]), (1, [(0, 9), (2, 8)]), (2, [(0, 5), (1, 8), (3, 2)]), (3, [(2, 2), (4, 4), (0, 1)]), (4, [(3, 4), (0, 4)])])\n",
      "\n",
      "Following is Breadth First Traversal (starting from vertex 1)\n",
      "1 0 2 3 Goal Found!\n"
     ]
    },
    {
     "data": {
      "text/plain": [
       "1"
      ]
     },
     "execution_count": 5,
     "metadata": {},
     "output_type": "execute_result"
    }
   ],
   "source": [
    "\n",
    "# Driver code\n",
    "g = Graph()\n",
    "g.addEdge(0, 1, 9)\n",
    "g.addEdge(0, 2, 5)\n",
    "g.addEdge(1, 2, 8)\n",
    "g.addEdge(2, 3, 2)\n",
    "g.addEdge(3, 4, 4)\n",
    "g.addEdge(3, 0, 1)\n",
    "g.addEdge(4, 0, 4)\n",
    "g.dispg()\n",
    "print(\"\\nFollowing is Breadth First Traversal (starting from vertex 1)\")\n",
    "g.BFS(1, 3)"
   ]
  },
  {
   "cell_type": "code",
   "execution_count": null,
   "id": "ce958298-6b55-4729-8e97-18391028a981",
   "metadata": {},
   "outputs": [],
   "source": []
  }
 ],
 "metadata": {
  "kernelspec": {
   "display_name": "Python [conda env:base] *",
   "language": "python",
   "name": "conda-base-py"
  },
  "language_info": {
   "codemirror_mode": {
    "name": "ipython",
    "version": 3
   },
   "file_extension": ".py",
   "mimetype": "text/x-python",
   "name": "python",
   "nbconvert_exporter": "python",
   "pygments_lexer": "ipython3",
   "version": "3.12.4"
  }
 },
 "nbformat": 4,
 "nbformat_minor": 5
}
