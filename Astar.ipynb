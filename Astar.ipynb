{
 "cells": [
  {
   "cell_type": "code",
   "execution_count": 1,
   "id": "29f7f279-c128-4f4c-8c1f-604a034d482e",
   "metadata": {},
   "outputs": [
    {
     "name": "stdout",
     "output_type": "stream",
     "text": [
      "Path: [1, 4, 9], Cost: 10\n"
     ]
    }
   ],
   "source": [
    "import heapq\n",
    "\n",
    "class Graph:\n",
    "    def __init__(self):\n",
    "        self.edges = {}\n",
    "        self.heuristics = {}\n",
    "\n",
    "    def add_edge(self, start, end, cost):\n",
    "        if start not in self.edges:\n",
    "            self.edges[start] = []\n",
    "        self.edges[start].append((cost, end))\n",
    "\n",
    "    def set_heuristic(self, node, heuristic_value):\n",
    "        self.heuristics[node] = heuristic_value\n",
    "\n",
    "    def a_star_search(self, start, goal):\n",
    "        priority_queue = []\n",
    "        heapq.heappush(priority_queue, (self.heuristics.get(start, float(\"inf\")), 0, start))  # (f(n), g(n), node)\n",
    "        visited = set()\n",
    "        parent = {start: None}\n",
    "        cost_so_far = {start: 0}\n",
    "\n",
    "        while priority_queue:\n",
    "            _, current_cost, current_node = heapq.heappop(priority_queue)\n",
    "\n",
    "            if current_node in visited:\n",
    "                continue\n",
    "\n",
    "            visited.add(current_node)\n",
    "\n",
    "            if current_node == goal:\n",
    "                path = []\n",
    "                total_cost = current_cost\n",
    "                while current_node:\n",
    "                    path.append(current_node)\n",
    "                    current_node = parent[current_node]\n",
    "                return list(reversed(path)), total_cost\n",
    "\n",
    "            for edge_cost, neighbor in self.edges.get(current_node, []):\n",
    "                new_cost = current_cost + edge_cost  # g(n) = cost from start to current node\n",
    "\n",
    "                if neighbor not in cost_so_far or new_cost < cost_so_far[neighbor]:\n",
    "                    cost_so_far[neighbor] = new_cost\n",
    "                    f_score = new_cost + self.heuristics.get(neighbor, float(\"inf\"))  # f(n) = g(n) + h(n)\n",
    "                    heapq.heappush(priority_queue, (f_score, new_cost, neighbor))\n",
    "                    parent[neighbor] = current_node\n",
    "\n",
    "        return None, float(\"inf\")  # No path found\n",
    "\n",
    "# Example Usage\n",
    "graph = Graph()\n",
    "graph.add_edge(1, 2, 2)\n",
    "graph.add_edge(1, 3, 1)\n",
    "graph.add_edge(1, 4, 4)\n",
    "graph.add_edge(2, 5, 3)\n",
    "graph.add_edge(2, 6, 2)\n",
    "graph.add_edge(3, 7, 1)\n",
    "graph.add_edge(4, 8, 5)\n",
    "graph.add_edge(4, 9, 6)\n",
    "graph.add_edge(6, 10, 4)\n",
    "graph.add_edge(6, 11, 2)\n",
    "\n",
    "# Setting heuristic values (assumed)\n",
    "heuristics = {\n",
    "    1: 9, 2: 8, 3: 12, 4: 15, 5: 18, 6: 5, 7: 10, 8: 13, 9: 15, 10: 20, 11: 0  # Goal node (11) has heuristic 0\n",
    "}\n",
    "for node, h in heuristics.items():\n",
    "    graph.set_heuristic(node, h)\n",
    "\n",
    "start = 1\n",
    "goal = 9\n",
    "path, cost = graph.a_star_search(start, goal)\n",
    "print(f\"Path: {path}, Cost: {cost}\")\n"
   ]
  },
  {
   "cell_type": "code",
   "execution_count": null,
   "id": "436ef3c1-0a8e-431d-a76c-2ed5e76707f9",
   "metadata": {},
   "outputs": [],
   "source": []
  }
 ],
 "metadata": {
  "kernelspec": {
   "display_name": "Python [conda env:base] *",
   "language": "python",
   "name": "conda-base-py"
  },
  "language_info": {
   "codemirror_mode": {
    "name": "ipython",
    "version": 3
   },
   "file_extension": ".py",
   "mimetype": "text/x-python",
   "name": "python",
   "nbconvert_exporter": "python",
   "pygments_lexer": "ipython3",
   "version": "3.12.4"
  }
 },
 "nbformat": 4,
 "nbformat_minor": 5
}
