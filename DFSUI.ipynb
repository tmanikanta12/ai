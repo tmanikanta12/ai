{
 "cells": [
  {
   "cell_type": "code",
   "execution_count": 1,
   "metadata": {
    "colab": {
     "base_uri": "https://localhost:8080/"
    },
    "id": "A8Ql37A-ag7g",
    "outputId": "cfe3634f-7dde-4e67-b805-e8b48b1baaff"
   },
   "outputs": [],
   "source": [
    "from collections import defaultdict\n",
    "\n"
   ]
  },
  {
   "cell_type": "code",
   "execution_count": 3,
   "metadata": {},
   "outputs": [],
   "source": [
    "class Graph:\n",
    "  def __init__(self):\n",
    "    self.graph=defaultdict(list)\n",
    "\n",
    "  def addEdge(self,u,v,c):\n",
    "    self.graph[u].append((v,c))\n",
    "    self.graph[v].append((u,c))\n",
    "\n",
    "  def dispg(self):\n",
    "    print(self.graph.items())\n",
    "  def DFS(self,s,goal):\n",
    "    visited=[False]*(len(self.graph))\n",
    "    frontier=[]\n",
    "    frontier.append(s)\n",
    "    visited[s]=True\n",
    "    while frontier:\n",
    "      s=frontier.pop()\n",
    "      print(s,end=\" \")\n",
    "      if(s==goal):\n",
    "        print(\"Goal Found!\")\n",
    "        return 1\n",
    "      for i,j in self.graph[s]:\n",
    "        if visited[i]==False:\n",
    "          frontier.append(i)\n",
    "          visited[i]=True# Driver code\n",
    "\n"
   ]
  },
  {
   "cell_type": "code",
   "execution_count": 5,
   "metadata": {},
   "outputs": [
    {
     "name": "stdout",
     "output_type": "stream",
     "text": [
      "dict_items([(0, [(1, 9), (2, 5), (3, 1), (4, 4)]), (1, [(0, 9), (2, 8)]), (2, [(0, 5), (1, 8), (3, 2)]), (3, [(2, 2), (4, 4), (0, 1)]), (4, [(3, 4), (0, 4)])])\n",
      "\n",
      " Following is Depth First Traversal (starting from vertex 1)\n"
     ]
    }
   ],
   "source": [
    "# Create a graph given in the above diagram\n",
    "g = Graph()\n",
    "g.addEdge(0, 1,9)\n",
    "g.addEdge(0, 2,5)\n",
    "g.addEdge(1, 2,8)\n",
    "g.addEdge(2, 3,2)\n",
    "g.addEdge(3, 4,4)\n",
    "g.addEdge(3, 0,1)\n",
    "g.addEdge(4, 0,4)\n",
    "g.dispg()\n",
    "print (\"\\n Following is Depth First Traversal (starting from vertex 1)\")\n"
   ]
  },
  {
   "cell_type": "code",
   "execution_count": 13,
   "metadata": {},
   "outputs": [
    {
     "name": "stdout",
     "output_type": "stream",
     "text": [
      "1 2 3 4 Goal Found!\n"
     ]
    },
    {
     "data": {
      "text/plain": [
       "1"
      ]
     },
     "execution_count": 13,
     "metadata": {},
     "output_type": "execute_result"
    }
   ],
   "source": [
    "g.DFS(1,4)"
   ]
  },
  {
   "cell_type": "code",
   "execution_count": null,
   "metadata": {},
   "outputs": [],
   "source": []
  }
 ],
 "metadata": {
  "colab": {
   "provenance": []
  },
  "kernelspec": {
   "display_name": "Python [conda env:base] *",
   "language": "python",
   "name": "conda-base-py"
  },
  "language_info": {
   "codemirror_mode": {
    "name": "ipython",
    "version": 3
   },
   "file_extension": ".py",
   "mimetype": "text/x-python",
   "name": "python",
   "nbconvert_exporter": "python",
   "pygments_lexer": "ipython3",
   "version": "3.12.4"
  }
 },
 "nbformat": 4,
 "nbformat_minor": 4
}
