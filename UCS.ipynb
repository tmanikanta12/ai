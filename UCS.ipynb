{
 "cells": [
  {
   "cell_type": "code",
   "execution_count": 3,
   "id": "664e548a-fb41-454e-be64-03bd7e847280",
   "metadata": {},
   "outputs": [],
   "source": [
    "import heapq\n",
    "\n"
   ]
  },
  {
   "cell_type": "code",
   "execution_count": null,
   "id": "df70d432-096e-4d3b-b6ab-42b943fdced3",
   "metadata": {},
   "outputs": [],
   "source": [
    "class Graph:\n",
    "    def __init__(self):\n",
    "        self.edges = {}\n",
    "\n",
    "    def add_edge(self, start, end, cost):\n",
    "        if start not in self.edges:\n",
    "            self.edges[start] = []\n",
    "        self.edges[start].append((cost, end))\n",
    "\n",
    "    def uniform_cost_search(self, start, goal):\n",
    "        priority_queue = []\n",
    "        heapq.heappush(priority_queue, (0, start))  # (cost, node)\n",
    "        visited = set()\n",
    "        costs = {start: 0}\n",
    "        parent = {start: None}\n",
    "\n",
    "        while priority_queue:\n",
    "            current_cost, current_node = heapq.heappop(priority_queue)\n",
    "\n",
    "            if current_node in visited:\n",
    "                continue\n",
    "\n",
    "            visited.add(current_node)\n",
    "\n",
    "            if current_node == goal:\n",
    "                path = []\n",
    "                while current_node:\n",
    "                    path.append(current_node)\n",
    "                    current_node = parent[current_node]\n",
    "                return list(reversed(path)), current_cost\n",
    "\n",
    "            for edge_cost, neighbor in self.edges.get(current_node, []):\n",
    "                new_cost = current_cost + edge_cost\n",
    "                if neighbor not in costs or new_cost < costs[neighbor]:\n",
    "                    costs[neighbor] = new_cost\n",
    "                    heapq.heappush(priority_queue, (new_cost, neighbor))\n",
    "                    parent[neighbor] = current_node\n",
    "\n",
    "        return None, float(\"inf\")  # No path found\n",
    "\n"
   ]
  },
  {
   "cell_type": "code",
   "execution_count": 16,
   "id": "1bc42d6e-cc76-4746-ba1d-911a35ff4ab1",
   "metadata": {},
   "outputs": [],
   "source": [
    "# Example Usage\n",
    "graph = Graph()\n",
    "graph.add_edge(1, 2, 2)\n",
    "graph.add_edge(1, 3, 1)\n",
    "graph.add_edge(1, 2, 4)\n",
    "graph.add_edge(1, 4, 4)\n",
    "graph.add_edge(2, 5, 3)\n",
    "graph.add_edge(2, 6, 2)\n",
    "graph.add_edge(3, 7, 1)\n",
    "graph.add_edge(4, 8, 5)\n",
    "graph.add_edge(4, 9, 6)\n",
    "graph.add_edge(6, 10, 4)\n",
    "graph.add_edge(6, 11, 2)\n",
    "\n"
   ]
  },
  {
   "cell_type": "code",
   "execution_count": 20,
   "id": "7e25f784-726f-4b17-b3b5-f82af3b4697c",
   "metadata": {},
   "outputs": [
    {
     "name": "stdout",
     "output_type": "stream",
     "text": [
      "Path: [1, 4, 9], Cost: 10\n"
     ]
    }
   ],
   "source": [
    "start = 1\n",
    "goal = 9\n",
    "path, cost = graph.uniform_cost_search(start, goal)\n",
    "print(f\"Path: {path}, Cost: {cost}\")\n"
   ]
  },
  {
   "cell_type": "code",
   "execution_count": null,
   "id": "186aacc5-7d57-4f83-9d9a-b2259f43012e",
   "metadata": {},
   "outputs": [],
   "source": []
  }
 ],
 "metadata": {
  "kernelspec": {
   "display_name": "Python [conda env:base] *",
   "language": "python",
   "name": "conda-base-py"
  },
  "language_info": {
   "codemirror_mode": {
    "name": "ipython",
    "version": 3
   },
   "file_extension": ".py",
   "mimetype": "text/x-python",
   "name": "python",
   "nbconvert_exporter": "python",
   "pygments_lexer": "ipython3",
   "version": "3.12.4"
  }
 },
 "nbformat": 4,
 "nbformat_minor": 5
}
